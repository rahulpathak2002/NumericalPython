{
  "nbformat": 4,
  "nbformat_minor": 0,
  "metadata": {
    "celltoolbar": "Edit Metadata",
    "kernelspec": {
      "display_name": "Python 3",
      "language": "python",
      "name": "python3"
    },
    "language_info": {
      "codemirror_mode": {
        "name": "ipython",
        "version": 3
      },
      "file_extension": ".py",
      "mimetype": "text/x-python",
      "name": "python",
      "nbconvert_exporter": "python",
      "pygments_lexer": "ipython3",
      "version": "3.7.6"
    },
    "toc-autonumbering": false,
    "toc-showcode": false,
    "toc-showmarkdowntxt": false,
    "toc-showtags": false,
    "colab": {
      "name": "pandas.ipynb",
      "provenance": [],
      "toc_visible": true
    }
  },
  "cells": [
    {
      "cell_type": "markdown",
      "metadata": {
        "id": "l5wu-taSVMxi"
      },
      "source": [
        "# Dataframes with Pandas\n",
        "\n",
        "For reference, here is a useful [pandas cheat sheet](https://drive.google.com/folderview?id=0ByIrJAE4KMTtaGhRcXkxNHhmY2M&usp=sharing).\n",
        "\n",
        "Often data is stored in comma separated values (CSV) files. CSV files can be output by any spreadsheet software, and are plain text, hence are a great way to share data.\n",
        "\n",
        "![](https://github.com/rahulpathak2002/NumericalPython/blob/main/images/csv.png?raw=1)\n",
        "\n",
        "Here we are reading in a spreadsheet of the number of electoral votes in the American Electoral College.\n",
        "\n",
        "## Importing and structure"
      ]
    },
    {
      "cell_type": "code",
      "metadata": {
        "id": "W2xp4tRHVMxo"
      },
      "source": [
        "# Let us import the pandas library\n",
        "import pandas as pd"
      ],
      "execution_count": 1,
      "outputs": []
    },
    {
      "cell_type": "code",
      "metadata": {
        "id": "N0IlJv-TWtQU",
        "outputId": "ff87e7fb-9114-4809-be6e-31b3fb37d334",
        "colab": {
          "base_uri": "https://localhost:8080/"
        }
      },
      "source": [
        "!wget https://raw.githubusercontent.com/rahulpathak2002/NumericalPython/main/data/electoral_votes.csv"
      ],
      "execution_count": 2,
      "outputs": [
        {
          "output_type": "stream",
          "text": [
            "--2020-12-20 04:14:16--  https://raw.githubusercontent.com/rahulpathak2002/NumericalPython/main/data/electoral_votes.csv\n",
            "Resolving raw.githubusercontent.com (raw.githubusercontent.com)... 151.101.0.133, 151.101.64.133, 151.101.128.133, ...\n",
            "Connecting to raw.githubusercontent.com (raw.githubusercontent.com)|151.101.0.133|:443... connected.\n",
            "HTTP request sent, awaiting response... 200 OK\n",
            "Length: 679 [text/plain]\n",
            "Saving to: ‘electoral_votes.csv’\n",
            "\n",
            "\relectoral_votes.csv   0%[                    ]       0  --.-KB/s               \relectoral_votes.csv 100%[===================>]     679  --.-KB/s    in 0s      \n",
            "\n",
            "2020-12-20 04:14:17 (29.3 MB/s) - ‘electoral_votes.csv’ saved [679/679]\n",
            "\n"
          ],
          "name": "stdout"
        }
      ]
    },
    {
      "cell_type": "code",
      "metadata": {
        "id": "_xFh2xG3Ww5c",
        "outputId": "51797f67-5d55-4ad6-a9df-8b82e132fce1",
        "colab": {
          "base_uri": "https://localhost:8080/"
        }
      },
      "source": [
        "!wget https://raw.githubusercontent.com/rahulpathak2002/NumericalPython/main/data/population_2012.csv"
      ],
      "execution_count": 3,
      "outputs": [
        {
          "output_type": "stream",
          "text": [
            "--2020-12-20 04:14:34--  https://raw.githubusercontent.com/rahulpathak2002/NumericalPython/main/data/population_2012.csv\n",
            "Resolving raw.githubusercontent.com (raw.githubusercontent.com)... 151.101.0.133, 151.101.64.133, 151.101.128.133, ...\n",
            "Connecting to raw.githubusercontent.com (raw.githubusercontent.com)|151.101.0.133|:443... connected.\n",
            "HTTP request sent, awaiting response... 200 OK\n",
            "Length: 969 [text/plain]\n",
            "Saving to: ‘population_2012.csv’\n",
            "\n",
            "\rpopulation_2012.csv   0%[                    ]       0  --.-KB/s               \rpopulation_2012.csv 100%[===================>]     969  --.-KB/s    in 0s      \n",
            "\n",
            "2020-12-20 04:14:34 (51.2 MB/s) - ‘population_2012.csv’ saved [969/969]\n",
            "\n"
          ],
          "name": "stdout"
        }
      ]
    },
    {
      "cell_type": "code",
      "metadata": {
        "id": "zR4kYB_dVMxp",
        "outputId": "18e4423c-6234-4544-e7be-ced91e88e10f",
        "colab": {
          "base_uri": "https://localhost:8080/",
          "height": 204
        }
      },
      "source": [
        "electoral_votes = pd.read_csv(\"electoral_votes.csv\")\n",
        "electoral_votes.head()"
      ],
      "execution_count": 4,
      "outputs": [
        {
          "output_type": "execute_result",
          "data": {
            "text/html": [
              "<div>\n",
              "<style scoped>\n",
              "    .dataframe tbody tr th:only-of-type {\n",
              "        vertical-align: middle;\n",
              "    }\n",
              "\n",
              "    .dataframe tbody tr th {\n",
              "        vertical-align: top;\n",
              "    }\n",
              "\n",
              "    .dataframe thead th {\n",
              "        text-align: right;\n",
              "    }\n",
              "</style>\n",
              "<table border=\"1\" class=\"dataframe\">\n",
              "  <thead>\n",
              "    <tr style=\"text-align: right;\">\n",
              "      <th></th>\n",
              "      <th>State</th>\n",
              "      <th>Votes</th>\n",
              "    </tr>\n",
              "  </thead>\n",
              "  <tbody>\n",
              "    <tr>\n",
              "      <th>0</th>\n",
              "      <td>California</td>\n",
              "      <td>55</td>\n",
              "    </tr>\n",
              "    <tr>\n",
              "      <th>1</th>\n",
              "      <td>Texas</td>\n",
              "      <td>38</td>\n",
              "    </tr>\n",
              "    <tr>\n",
              "      <th>2</th>\n",
              "      <td>New York</td>\n",
              "      <td>29</td>\n",
              "    </tr>\n",
              "    <tr>\n",
              "      <th>3</th>\n",
              "      <td>Florida</td>\n",
              "      <td>29</td>\n",
              "    </tr>\n",
              "    <tr>\n",
              "      <th>4</th>\n",
              "      <td>Illinois</td>\n",
              "      <td>20</td>\n",
              "    </tr>\n",
              "  </tbody>\n",
              "</table>\n",
              "</div>"
            ],
            "text/plain": [
              "        State  Votes\n",
              "0  California     55\n",
              "1       Texas     38\n",
              "2    New York     29\n",
              "3     Florida     29\n",
              "4    Illinois     20"
            ]
          },
          "metadata": {
            "tags": []
          },
          "execution_count": 4
        }
      ]
    },
    {
      "cell_type": "markdown",
      "metadata": {
        "id": "i0Xe3sDPVMxq"
      },
      "source": [
        "What we have now is a spreadsheet with indexed rows and named columns, called a dataframe in pandas.  `electoral_votes` is an instance of the pd.DataFrame class, created by calling the pd.read_csv \"constructor function\".\n",
        "\n",
        "`electoral_votes` is a dataframe object, and it has methods (functions) belonging to it. For example, `electoral_votes.head()` is a method that shows the first 5 rows of the dataframe.\n",
        "\n",
        "A pandas dataframe is a set of columns pasted together into a spreadsheet, as shown in the schematic below, which is taken from the cheatsheet above. The columns in pandas are called series objects.\n",
        "\n",
        "![](https://github.com/rahulpathak2002/NumericalPython/blob/main/images/pandastruct.png?raw=1)\n",
        "\n",
        "Here, `States` and `Votes` are Pandas series objects. \n"
      ]
    },
    {
      "cell_type": "code",
      "metadata": {
        "id": "NKzLk5I0VMxq",
        "outputId": "f1875f80-6c18-4ee6-e438-acb5fd2c735a",
        "colab": {
          "base_uri": "https://localhost:8080/"
        }
      },
      "source": [
        "electoral_votes.columns\r\n",
        "#looks likes a dictionary"
      ],
      "execution_count": 6,
      "outputs": [
        {
          "output_type": "execute_result",
          "data": {
            "text/plain": [
              "Index(['State', 'Votes'], dtype='object')"
            ]
          },
          "metadata": {
            "tags": []
          },
          "execution_count": 6
        }
      ]
    },
    {
      "cell_type": "code",
      "metadata": {
        "id": "iY1Y3aHyYinG"
      },
      "source": [
        "electoral_votes.columns??"
      ],
      "execution_count": 10,
      "outputs": []
    },
    {
      "cell_type": "markdown",
      "metadata": {
        "id": "_psnL42xVMxr"
      },
      "source": [
        "We can find out the object type by using the type function."
      ]
    },
    {
      "cell_type": "code",
      "metadata": {
        "id": "C8ad7GshVMxr",
        "outputId": "7a35c097-f89f-4d9e-f46c-ffd21f22dff8",
        "colab": {
          "base_uri": "https://localhost:8080/"
        }
      },
      "source": [
        "print('Electoral votes is a ', type(electoral_votes))\n",
        "print('Votes is a ', type(electoral_votes['Votes']))"
      ],
      "execution_count": 7,
      "outputs": [
        {
          "output_type": "stream",
          "text": [
            "Electoral votes is a  <class 'pandas.core.frame.DataFrame'>\n",
            "Votes is a  <class 'pandas.core.series.Series'>\n"
          ],
          "name": "stdout"
        }
      ]
    },
    {
      "cell_type": "markdown",
      "metadata": {
        "id": "Ty4mJm5KVMxr"
      },
      "source": [
        "What is the \"shape\" of the dataframe?"
      ]
    },
    {
      "cell_type": "code",
      "metadata": {
        "id": "J4oiIA9TVMxs",
        "outputId": "399ae7c2-5285-4fc6-d4a9-80e4af7c5b38",
        "colab": {
          "base_uri": "https://localhost:8080/"
        }
      },
      "source": [
        "electoral_votes.shape"
      ],
      "execution_count": 11,
      "outputs": [
        {
          "output_type": "execute_result",
          "data": {
            "text/plain": [
              "(51, 2)"
            ]
          },
          "metadata": {
            "tags": []
          },
          "execution_count": 11
        }
      ]
    },
    {
      "cell_type": "markdown",
      "metadata": {
        "id": "6dOupaZtVMxs"
      },
      "source": [
        "And the datatypes? Pandas is built on top of numpy and thus wants columns to have unique types."
      ]
    },
    {
      "cell_type": "code",
      "metadata": {
        "id": "0HQKbKEpVMxs",
        "outputId": "f5bf9262-9914-4575-dc76-45c54095d36b",
        "colab": {
          "base_uri": "https://localhost:8080/"
        }
      },
      "source": [
        "electoral_votes.dtypes"
      ],
      "execution_count": 12,
      "outputs": [
        {
          "output_type": "execute_result",
          "data": {
            "text/plain": [
              "State    object\n",
              "Votes     int64\n",
              "dtype: object"
            ]
          },
          "metadata": {
            "tags": []
          },
          "execution_count": 12
        }
      ]
    },
    {
      "cell_type": "markdown",
      "metadata": {
        "id": "rxDZETRYVMxt"
      },
      "source": [
        "## Access\n",
        "\n",
        "As we see above, the pandas dataframe acts like a dictionary, with the keys being the column names."
      ]
    },
    {
      "cell_type": "code",
      "metadata": {
        "id": "ZL3v_Xs1VMxt",
        "outputId": "5eae3ac8-e332-4cbe-f171-0b9b8355e316",
        "colab": {
          "base_uri": "https://localhost:8080/"
        }
      },
      "source": [
        "electoral_votes['Votes']"
      ],
      "execution_count": 13,
      "outputs": [
        {
          "output_type": "execute_result",
          "data": {
            "text/plain": [
              "0     55\n",
              "1     38\n",
              "2     29\n",
              "3     29\n",
              "4     20\n",
              "5     20\n",
              "6     18\n",
              "7     16\n",
              "8     16\n",
              "9     15\n",
              "10    14\n",
              "11    13\n",
              "12    12\n",
              "13    11\n",
              "14    11\n",
              "15    11\n",
              "16    11\n",
              "17    10\n",
              "18    10\n",
              "19    10\n",
              "20    10\n",
              "21     9\n",
              "22     9\n",
              "23     9\n",
              "24     8\n",
              "25     8\n",
              "26     7\n",
              "27     7\n",
              "28     7\n",
              "29     6\n",
              "30     6\n",
              "31     6\n",
              "32     6\n",
              "33     6\n",
              "34     6\n",
              "35     5\n",
              "36     5\n",
              "37     5\n",
              "38     4\n",
              "39     4\n",
              "40     4\n",
              "41     4\n",
              "42     4\n",
              "43     3\n",
              "44     3\n",
              "45     3\n",
              "46     3\n",
              "47     3\n",
              "48     3\n",
              "49     3\n",
              "50     3\n",
              "Name: Votes, dtype: int64"
            ]
          },
          "metadata": {
            "tags": []
          },
          "execution_count": 13
        }
      ]
    },
    {
      "cell_type": "markdown",
      "metadata": {
        "id": "sKMQuZErVMxt"
      },
      "source": [
        "You could also access them like this, if the variable name allows it"
      ]
    },
    {
      "cell_type": "code",
      "metadata": {
        "id": "nqigLQYWVMxt",
        "outputId": "4c552b7d-c0ef-4aa5-8c8c-e11ed53a3bb9",
        "colab": {
          "base_uri": "https://localhost:8080/"
        }
      },
      "source": [
        "electoral_votes.Votes\r\n",
        "# we can not use this if we have two words in columns name"
      ],
      "execution_count": 14,
      "outputs": [
        {
          "output_type": "execute_result",
          "data": {
            "text/plain": [
              "0     55\n",
              "1     38\n",
              "2     29\n",
              "3     29\n",
              "4     20\n",
              "5     20\n",
              "6     18\n",
              "7     16\n",
              "8     16\n",
              "9     15\n",
              "10    14\n",
              "11    13\n",
              "12    12\n",
              "13    11\n",
              "14    11\n",
              "15    11\n",
              "16    11\n",
              "17    10\n",
              "18    10\n",
              "19    10\n",
              "20    10\n",
              "21     9\n",
              "22     9\n",
              "23     9\n",
              "24     8\n",
              "25     8\n",
              "26     7\n",
              "27     7\n",
              "28     7\n",
              "29     6\n",
              "30     6\n",
              "31     6\n",
              "32     6\n",
              "33     6\n",
              "34     6\n",
              "35     5\n",
              "36     5\n",
              "37     5\n",
              "38     4\n",
              "39     4\n",
              "40     4\n",
              "41     4\n",
              "42     4\n",
              "43     3\n",
              "44     3\n",
              "45     3\n",
              "46     3\n",
              "47     3\n",
              "48     3\n",
              "49     3\n",
              "50     3\n",
              "Name: Votes, dtype: int64"
            ]
          },
          "metadata": {
            "tags": []
          },
          "execution_count": 14
        }
      ]
    },
    {
      "cell_type": "code",
      "metadata": {
        "id": "ETmK26tiZmTg",
        "outputId": "1b46b2e4-a945-4d85-8897-812c38c50e30",
        "colab": {
          "base_uri": "https://localhost:8080/",
          "height": 359
        }
      },
      "source": [
        "electoral_votes.head(10)"
      ],
      "execution_count": 15,
      "outputs": [
        {
          "output_type": "execute_result",
          "data": {
            "text/html": [
              "<div>\n",
              "<style scoped>\n",
              "    .dataframe tbody tr th:only-of-type {\n",
              "        vertical-align: middle;\n",
              "    }\n",
              "\n",
              "    .dataframe tbody tr th {\n",
              "        vertical-align: top;\n",
              "    }\n",
              "\n",
              "    .dataframe thead th {\n",
              "        text-align: right;\n",
              "    }\n",
              "</style>\n",
              "<table border=\"1\" class=\"dataframe\">\n",
              "  <thead>\n",
              "    <tr style=\"text-align: right;\">\n",
              "      <th></th>\n",
              "      <th>State</th>\n",
              "      <th>Votes</th>\n",
              "    </tr>\n",
              "  </thead>\n",
              "  <tbody>\n",
              "    <tr>\n",
              "      <th>0</th>\n",
              "      <td>California</td>\n",
              "      <td>55</td>\n",
              "    </tr>\n",
              "    <tr>\n",
              "      <th>1</th>\n",
              "      <td>Texas</td>\n",
              "      <td>38</td>\n",
              "    </tr>\n",
              "    <tr>\n",
              "      <th>2</th>\n",
              "      <td>New York</td>\n",
              "      <td>29</td>\n",
              "    </tr>\n",
              "    <tr>\n",
              "      <th>3</th>\n",
              "      <td>Florida</td>\n",
              "      <td>29</td>\n",
              "    </tr>\n",
              "    <tr>\n",
              "      <th>4</th>\n",
              "      <td>Illinois</td>\n",
              "      <td>20</td>\n",
              "    </tr>\n",
              "    <tr>\n",
              "      <th>5</th>\n",
              "      <td>Pennsylvania</td>\n",
              "      <td>20</td>\n",
              "    </tr>\n",
              "    <tr>\n",
              "      <th>6</th>\n",
              "      <td>Ohio</td>\n",
              "      <td>18</td>\n",
              "    </tr>\n",
              "    <tr>\n",
              "      <th>7</th>\n",
              "      <td>Michigan</td>\n",
              "      <td>16</td>\n",
              "    </tr>\n",
              "    <tr>\n",
              "      <th>8</th>\n",
              "      <td>Georgia</td>\n",
              "      <td>16</td>\n",
              "    </tr>\n",
              "    <tr>\n",
              "      <th>9</th>\n",
              "      <td>North Carolina</td>\n",
              "      <td>15</td>\n",
              "    </tr>\n",
              "  </tbody>\n",
              "</table>\n",
              "</div>"
            ],
            "text/plain": [
              "            State  Votes\n",
              "0      California     55\n",
              "1           Texas     38\n",
              "2        New York     29\n",
              "3         Florida     29\n",
              "4        Illinois     20\n",
              "5    Pennsylvania     20\n",
              "6            Ohio     18\n",
              "7        Michigan     16\n",
              "8         Georgia     16\n",
              "9  North Carolina     15"
            ]
          },
          "metadata": {
            "tags": []
          },
          "execution_count": 15
        }
      ]
    },
    {
      "cell_type": "markdown",
      "metadata": {
        "id": "_5WhZEOEVMxu"
      },
      "source": [
        "## Indexes\n",
        "\n",
        "Since the actual file looks something like this:\n",
        "\n",
        "```\n",
        "State,Votes\n",
        "California,55\n",
        "Texas,38\n",
        "New York,29\n",
        "Florida,29\n",
        "Illinois,20\n",
        "Pennsylvania,20\n",
        "```\n",
        "You can see that an index has been added, and its numerical, and starts at 0 (like in the lists). This index is not particularly useful, so lets set the state column as the index. We can do this because the states in the USA have **unique** names"
      ]
    },
    {
      "cell_type": "code",
      "metadata": {
        "id": "83ESnGqkVMxu",
        "outputId": "fb6c5888-2375-4aa9-b980-6ecea735ed25",
        "colab": {
          "base_uri": "https://localhost:8080/",
          "height": 235
        }
      },
      "source": [
        "electoral_votes = electoral_votes.set_index('State') # from memory point of view new memory is created and variable is asigned to new memory\n",
        "electoral_votes.head()"
      ],
      "execution_count": 16,
      "outputs": [
        {
          "output_type": "execute_result",
          "data": {
            "text/html": [
              "<div>\n",
              "<style scoped>\n",
              "    .dataframe tbody tr th:only-of-type {\n",
              "        vertical-align: middle;\n",
              "    }\n",
              "\n",
              "    .dataframe tbody tr th {\n",
              "        vertical-align: top;\n",
              "    }\n",
              "\n",
              "    .dataframe thead th {\n",
              "        text-align: right;\n",
              "    }\n",
              "</style>\n",
              "<table border=\"1\" class=\"dataframe\">\n",
              "  <thead>\n",
              "    <tr style=\"text-align: right;\">\n",
              "      <th></th>\n",
              "      <th>Votes</th>\n",
              "    </tr>\n",
              "    <tr>\n",
              "      <th>State</th>\n",
              "      <th></th>\n",
              "    </tr>\n",
              "  </thead>\n",
              "  <tbody>\n",
              "    <tr>\n",
              "      <th>California</th>\n",
              "      <td>55</td>\n",
              "    </tr>\n",
              "    <tr>\n",
              "      <th>Texas</th>\n",
              "      <td>38</td>\n",
              "    </tr>\n",
              "    <tr>\n",
              "      <th>New York</th>\n",
              "      <td>29</td>\n",
              "    </tr>\n",
              "    <tr>\n",
              "      <th>Florida</th>\n",
              "      <td>29</td>\n",
              "    </tr>\n",
              "    <tr>\n",
              "      <th>Illinois</th>\n",
              "      <td>20</td>\n",
              "    </tr>\n",
              "  </tbody>\n",
              "</table>\n",
              "</div>"
            ],
            "text/plain": [
              "            Votes\n",
              "State            \n",
              "California     55\n",
              "Texas          38\n",
              "New York       29\n",
              "Florida        29\n",
              "Illinois       20"
            ]
          },
          "metadata": {
            "tags": []
          },
          "execution_count": 16
        }
      ]
    },
    {
      "cell_type": "markdown",
      "metadata": {
        "id": "Ci_xKM5rVMxu"
      },
      "source": [
        "This changes the shape of the dataframe!"
      ]
    },
    {
      "cell_type": "code",
      "metadata": {
        "id": "NW-hy_DxVMxu",
        "outputId": "8e0e5275-78ca-461d-c77b-865905e38e2e",
        "colab": {
          "base_uri": "https://localhost:8080/"
        }
      },
      "source": [
        "electoral_votes.shape"
      ],
      "execution_count": 17,
      "outputs": [
        {
          "output_type": "execute_result",
          "data": {
            "text/plain": [
              "(51, 1)"
            ]
          },
          "metadata": {
            "tags": []
          },
          "execution_count": 17
        }
      ]
    },
    {
      "cell_type": "markdown",
      "metadata": {
        "id": "WIkWRZuTVMxv"
      },
      "source": [
        "Notice how we used the `electoral_votes` variable twice in a line above. Pandas returns new objects in memory when we do something to a dataframe (here, setting the index). We relabel the new memory with the same label.\n",
        "\n",
        "What happens to the old memory? When nothing refers to it, Python \"garbage collects\" it."
      ]
    },
    {
      "cell_type": "markdown",
      "metadata": {
        "id": "-bqfOeAxVMxv"
      },
      "source": [
        "## Combining Data"
      ]
    },
    {
      "cell_type": "markdown",
      "metadata": {
        "id": "B6cP7bG3VMxv"
      },
      "source": [
        "Let us read another csv file into a pandas dataframe. This csv file provides us information about the population of every state in the US. "
      ]
    },
    {
      "cell_type": "code",
      "metadata": {
        "id": "MAgLmxE1VMxv",
        "outputId": "602c4731-984c-4023-c634-29452726e0af",
        "colab": {
          "base_uri": "https://localhost:8080/",
          "height": 235
        }
      },
      "source": [
        "population_2012=pd.read_csv(\"population_2012.csv\").set_index('State')\n",
        "population_2012.head()"
      ],
      "execution_count": 18,
      "outputs": [
        {
          "output_type": "execute_result",
          "data": {
            "text/html": [
              "<div>\n",
              "<style scoped>\n",
              "    .dataframe tbody tr th:only-of-type {\n",
              "        vertical-align: middle;\n",
              "    }\n",
              "\n",
              "    .dataframe tbody tr th {\n",
              "        vertical-align: top;\n",
              "    }\n",
              "\n",
              "    .dataframe thead th {\n",
              "        text-align: right;\n",
              "    }\n",
              "</style>\n",
              "<table border=\"1\" class=\"dataframe\">\n",
              "  <thead>\n",
              "    <tr style=\"text-align: right;\">\n",
              "      <th></th>\n",
              "      <th>Population</th>\n",
              "    </tr>\n",
              "    <tr>\n",
              "      <th>State</th>\n",
              "      <th></th>\n",
              "    </tr>\n",
              "  </thead>\n",
              "  <tbody>\n",
              "    <tr>\n",
              "      <th>Alaska</th>\n",
              "      <td>710000</td>\n",
              "    </tr>\n",
              "    <tr>\n",
              "      <th>Alabama</th>\n",
              "      <td>4780000</td>\n",
              "    </tr>\n",
              "    <tr>\n",
              "      <th>Arkansas</th>\n",
              "      <td>2916000</td>\n",
              "    </tr>\n",
              "    <tr>\n",
              "      <th>Arizona</th>\n",
              "      <td>6392000</td>\n",
              "    </tr>\n",
              "    <tr>\n",
              "      <th>California</th>\n",
              "      <td>37254000</td>\n",
              "    </tr>\n",
              "  </tbody>\n",
              "</table>\n",
              "</div>"
            ],
            "text/plain": [
              "            Population\n",
              "State                 \n",
              "Alaska          710000\n",
              "Alabama        4780000\n",
              "Arkansas       2916000\n",
              "Arizona        6392000\n",
              "California    37254000"
            ]
          },
          "metadata": {
            "tags": []
          },
          "execution_count": 18
        }
      ]
    },
    {
      "cell_type": "code",
      "metadata": {
        "id": "b5xHu8zkVMxv",
        "outputId": "41024cd8-6e82-460f-eae4-1ad45df9bf72",
        "colab": {
          "base_uri": "https://localhost:8080/"
        }
      },
      "source": [
        "population_2012.shape"
      ],
      "execution_count": 19,
      "outputs": [
        {
          "output_type": "execute_result",
          "data": {
            "text/plain": [
              "(51, 1)"
            ]
          },
          "metadata": {
            "tags": []
          },
          "execution_count": 19
        }
      ]
    },
    {
      "cell_type": "markdown",
      "metadata": {
        "id": "DhJHfDg7VMxw"
      },
      "source": [
        "We now have two dataframes with state names as an index. Lets now try to combine these dataframes together so that we have all the information in one dataframe. This is identical to a SQL inner join."
      ]
    },
    {
      "cell_type": "code",
      "metadata": {
        "id": "ZLpFJX1FVMxw",
        "outputId": "1545bd30-996b-4471-b592-90d96c57cd02",
        "colab": {
          "base_uri": "https://localhost:8080/",
          "height": 235
        }
      },
      "source": [
        "combined = population_2012.join(electoral_votes)\n",
        "#its going to join based on the index.\n",
        "combined.head()"
      ],
      "execution_count": 21,
      "outputs": [
        {
          "output_type": "execute_result",
          "data": {
            "text/html": [
              "<div>\n",
              "<style scoped>\n",
              "    .dataframe tbody tr th:only-of-type {\n",
              "        vertical-align: middle;\n",
              "    }\n",
              "\n",
              "    .dataframe tbody tr th {\n",
              "        vertical-align: top;\n",
              "    }\n",
              "\n",
              "    .dataframe thead th {\n",
              "        text-align: right;\n",
              "    }\n",
              "</style>\n",
              "<table border=\"1\" class=\"dataframe\">\n",
              "  <thead>\n",
              "    <tr style=\"text-align: right;\">\n",
              "      <th></th>\n",
              "      <th>Population</th>\n",
              "      <th>Votes</th>\n",
              "    </tr>\n",
              "    <tr>\n",
              "      <th>State</th>\n",
              "      <th></th>\n",
              "      <th></th>\n",
              "    </tr>\n",
              "  </thead>\n",
              "  <tbody>\n",
              "    <tr>\n",
              "      <th>Alaska</th>\n",
              "      <td>710000</td>\n",
              "      <td>3</td>\n",
              "    </tr>\n",
              "    <tr>\n",
              "      <th>Alabama</th>\n",
              "      <td>4780000</td>\n",
              "      <td>9</td>\n",
              "    </tr>\n",
              "    <tr>\n",
              "      <th>Arkansas</th>\n",
              "      <td>2916000</td>\n",
              "      <td>6</td>\n",
              "    </tr>\n",
              "    <tr>\n",
              "      <th>Arizona</th>\n",
              "      <td>6392000</td>\n",
              "      <td>11</td>\n",
              "    </tr>\n",
              "    <tr>\n",
              "      <th>California</th>\n",
              "      <td>37254000</td>\n",
              "      <td>55</td>\n",
              "    </tr>\n",
              "  </tbody>\n",
              "</table>\n",
              "</div>"
            ],
            "text/plain": [
              "            Population  Votes\n",
              "State                        \n",
              "Alaska          710000      3\n",
              "Alabama        4780000      9\n",
              "Arkansas       2916000      6\n",
              "Arizona        6392000     11\n",
              "California    37254000     55"
            ]
          },
          "metadata": {
            "tags": []
          },
          "execution_count": 21
        }
      ]
    },
    {
      "cell_type": "markdown",
      "metadata": {
        "id": "Fe5fue0eVMxw"
      },
      "source": [
        "## Operations on dataframes and series"
      ]
    },
    {
      "cell_type": "markdown",
      "metadata": {
        "id": "hUEDjoQLVMxw"
      },
      "source": [
        "You must work with these sdataframes and series using pandas and numpy functions for reasons of speed. So dont iterate explicitly, let pandas do it for you. Let us add a column which gives us population in millions."
      ]
    },
    {
      "cell_type": "code",
      "metadata": {
        "id": "NZOxd9EGVMxx",
        "outputId": "a7b0262c-5e19-4be8-85c0-614cde545c42",
        "colab": {
          "base_uri": "https://localhost:8080/",
          "height": 235
        }
      },
      "source": [
        "combined['popmills'] = combined.Population.apply(lambda x: x/1000000.)\n",
        "combined.head()"
      ],
      "execution_count": 22,
      "outputs": [
        {
          "output_type": "execute_result",
          "data": {
            "text/html": [
              "<div>\n",
              "<style scoped>\n",
              "    .dataframe tbody tr th:only-of-type {\n",
              "        vertical-align: middle;\n",
              "    }\n",
              "\n",
              "    .dataframe tbody tr th {\n",
              "        vertical-align: top;\n",
              "    }\n",
              "\n",
              "    .dataframe thead th {\n",
              "        text-align: right;\n",
              "    }\n",
              "</style>\n",
              "<table border=\"1\" class=\"dataframe\">\n",
              "  <thead>\n",
              "    <tr style=\"text-align: right;\">\n",
              "      <th></th>\n",
              "      <th>Population</th>\n",
              "      <th>Votes</th>\n",
              "      <th>popmills</th>\n",
              "    </tr>\n",
              "    <tr>\n",
              "      <th>State</th>\n",
              "      <th></th>\n",
              "      <th></th>\n",
              "      <th></th>\n",
              "    </tr>\n",
              "  </thead>\n",
              "  <tbody>\n",
              "    <tr>\n",
              "      <th>Alaska</th>\n",
              "      <td>710000</td>\n",
              "      <td>3</td>\n",
              "      <td>0.710</td>\n",
              "    </tr>\n",
              "    <tr>\n",
              "      <th>Alabama</th>\n",
              "      <td>4780000</td>\n",
              "      <td>9</td>\n",
              "      <td>4.780</td>\n",
              "    </tr>\n",
              "    <tr>\n",
              "      <th>Arkansas</th>\n",
              "      <td>2916000</td>\n",
              "      <td>6</td>\n",
              "      <td>2.916</td>\n",
              "    </tr>\n",
              "    <tr>\n",
              "      <th>Arizona</th>\n",
              "      <td>6392000</td>\n",
              "      <td>11</td>\n",
              "      <td>6.392</td>\n",
              "    </tr>\n",
              "    <tr>\n",
              "      <th>California</th>\n",
              "      <td>37254000</td>\n",
              "      <td>55</td>\n",
              "      <td>37.254</td>\n",
              "    </tr>\n",
              "  </tbody>\n",
              "</table>\n",
              "</div>"
            ],
            "text/plain": [
              "            Population  Votes  popmills\n",
              "State                                  \n",
              "Alaska          710000      3     0.710\n",
              "Alabama        4780000      9     4.780\n",
              "Arkansas       2916000      6     2.916\n",
              "Arizona        6392000     11     6.392\n",
              "California    37254000     55    37.254"
            ]
          },
          "metadata": {
            "tags": []
          },
          "execution_count": 22
        }
      ]
    },
    {
      "cell_type": "markdown",
      "metadata": {
        "id": "7pNZSMjjVMxx"
      },
      "source": [
        "You can access multiple columns as a sub-dataframe using an array-indexing syntax"
      ]
    },
    {
      "cell_type": "code",
      "metadata": {
        "id": "thiToYedVMxx",
        "outputId": "6f9ea0fc-d92c-47bf-de29-0dc642a255b7",
        "colab": {
          "base_uri": "https://localhost:8080/",
          "height": 235
        }
      },
      "source": [
        "combined[['popmills', 'Votes']].head() #it creates a new completely new object. inplace changes the data in place which is not the default one."
      ],
      "execution_count": 24,
      "outputs": [
        {
          "output_type": "execute_result",
          "data": {
            "text/html": [
              "<div>\n",
              "<style scoped>\n",
              "    .dataframe tbody tr th:only-of-type {\n",
              "        vertical-align: middle;\n",
              "    }\n",
              "\n",
              "    .dataframe tbody tr th {\n",
              "        vertical-align: top;\n",
              "    }\n",
              "\n",
              "    .dataframe thead th {\n",
              "        text-align: right;\n",
              "    }\n",
              "</style>\n",
              "<table border=\"1\" class=\"dataframe\">\n",
              "  <thead>\n",
              "    <tr style=\"text-align: right;\">\n",
              "      <th></th>\n",
              "      <th>popmills</th>\n",
              "      <th>Votes</th>\n",
              "    </tr>\n",
              "    <tr>\n",
              "      <th>State</th>\n",
              "      <th></th>\n",
              "      <th></th>\n",
              "    </tr>\n",
              "  </thead>\n",
              "  <tbody>\n",
              "    <tr>\n",
              "      <th>Alaska</th>\n",
              "      <td>0.710</td>\n",
              "      <td>3</td>\n",
              "    </tr>\n",
              "    <tr>\n",
              "      <th>Alabama</th>\n",
              "      <td>4.780</td>\n",
              "      <td>9</td>\n",
              "    </tr>\n",
              "    <tr>\n",
              "      <th>Arkansas</th>\n",
              "      <td>2.916</td>\n",
              "      <td>6</td>\n",
              "    </tr>\n",
              "    <tr>\n",
              "      <th>Arizona</th>\n",
              "      <td>6.392</td>\n",
              "      <td>11</td>\n",
              "    </tr>\n",
              "    <tr>\n",
              "      <th>California</th>\n",
              "      <td>37.254</td>\n",
              "      <td>55</td>\n",
              "    </tr>\n",
              "  </tbody>\n",
              "</table>\n",
              "</div>"
            ],
            "text/plain": [
              "            popmills  Votes\n",
              "State                      \n",
              "Alaska         0.710      3\n",
              "Alabama        4.780      9\n",
              "Arkansas       2.916      6\n",
              "Arizona        6.392     11\n",
              "California    37.254     55"
            ]
          },
          "metadata": {
            "tags": []
          },
          "execution_count": 24
        }
      ]
    },
    {
      "cell_type": "markdown",
      "metadata": {
        "id": "6keel6pTVMxx"
      },
      "source": [
        "What if you wanted the 10 most populous states electoral votes and population in millions? You would have to sort by `popmills`, and get the top 10"
      ]
    },
    {
      "cell_type": "code",
      "metadata": {
        "id": "O6uJKU0SVMxx",
        "outputId": "8290540e-9897-4dbc-b005-c4a0147926ea"
      },
      "source": [
        "combined.sort_values('popmills', ascending=False)[['popmills', 'Votes']].head(10)"
      ],
      "execution_count": null,
      "outputs": [
        {
          "output_type": "execute_result",
          "data": {
            "text/html": [
              "<div>\n",
              "<style scoped>\n",
              "    .dataframe tbody tr th:only-of-type {\n",
              "        vertical-align: middle;\n",
              "    }\n",
              "\n",
              "    .dataframe tbody tr th {\n",
              "        vertical-align: top;\n",
              "    }\n",
              "\n",
              "    .dataframe thead th {\n",
              "        text-align: right;\n",
              "    }\n",
              "</style>\n",
              "<table border=\"1\" class=\"dataframe\">\n",
              "  <thead>\n",
              "    <tr style=\"text-align: right;\">\n",
              "      <th></th>\n",
              "      <th>popmills</th>\n",
              "      <th>Votes</th>\n",
              "    </tr>\n",
              "    <tr>\n",
              "      <th>State</th>\n",
              "      <th></th>\n",
              "      <th></th>\n",
              "    </tr>\n",
              "  </thead>\n",
              "  <tbody>\n",
              "    <tr>\n",
              "      <th>California</th>\n",
              "      <td>37.254</td>\n",
              "      <td>55</td>\n",
              "    </tr>\n",
              "    <tr>\n",
              "      <th>Texas</th>\n",
              "      <td>25.146</td>\n",
              "      <td>38</td>\n",
              "    </tr>\n",
              "    <tr>\n",
              "      <th>New York</th>\n",
              "      <td>19.378</td>\n",
              "      <td>29</td>\n",
              "    </tr>\n",
              "    <tr>\n",
              "      <th>Florida</th>\n",
              "      <td>18.801</td>\n",
              "      <td>29</td>\n",
              "    </tr>\n",
              "    <tr>\n",
              "      <th>Illinois</th>\n",
              "      <td>12.831</td>\n",
              "      <td>20</td>\n",
              "    </tr>\n",
              "    <tr>\n",
              "      <th>Pennsylvania</th>\n",
              "      <td>12.702</td>\n",
              "      <td>20</td>\n",
              "    </tr>\n",
              "    <tr>\n",
              "      <th>Ohio</th>\n",
              "      <td>11.537</td>\n",
              "      <td>18</td>\n",
              "    </tr>\n",
              "    <tr>\n",
              "      <th>Michigan</th>\n",
              "      <td>9.884</td>\n",
              "      <td>16</td>\n",
              "    </tr>\n",
              "    <tr>\n",
              "      <th>Georgia</th>\n",
              "      <td>9.688</td>\n",
              "      <td>16</td>\n",
              "    </tr>\n",
              "    <tr>\n",
              "      <th>North Carolina</th>\n",
              "      <td>9.535</td>\n",
              "      <td>15</td>\n",
              "    </tr>\n",
              "  </tbody>\n",
              "</table>\n",
              "</div>"
            ],
            "text/plain": [
              "                popmills  Votes\n",
              "State                          \n",
              "California        37.254     55\n",
              "Texas             25.146     38\n",
              "New York          19.378     29\n",
              "Florida           18.801     29\n",
              "Illinois          12.831     20\n",
              "Pennsylvania      12.702     20\n",
              "Ohio              11.537     18\n",
              "Michigan           9.884     16\n",
              "Georgia            9.688     16\n",
              "North Carolina     9.535     15"
            ]
          },
          "metadata": {
            "tags": []
          },
          "execution_count": 26
        }
      ]
    },
    {
      "cell_type": "code",
      "metadata": {
        "id": "wMC7iEdEco7i"
      },
      "source": [
        "\r\n"
      ],
      "execution_count": 28,
      "outputs": []
    },
    {
      "cell_type": "markdown",
      "metadata": {
        "id": "PPlfSu0lVMxy"
      },
      "source": [
        "You can query dataframes by values of certain columns"
      ]
    },
    {
      "cell_type": "code",
      "metadata": {
        "id": "f9m7QN-sVMxy",
        "outputId": "7d396a19-c778-466a-d163-5b239771e116",
        "colab": {
          "base_uri": "https://localhost:8080/",
          "height": 297
        }
      },
      "source": [
        "combined.query(\"10 < Votes < 15\")"
      ],
      "execution_count": 29,
      "outputs": [
        {
          "output_type": "execute_result",
          "data": {
            "text/html": [
              "<div>\n",
              "<style scoped>\n",
              "    .dataframe tbody tr th:only-of-type {\n",
              "        vertical-align: middle;\n",
              "    }\n",
              "\n",
              "    .dataframe tbody tr th {\n",
              "        vertical-align: top;\n",
              "    }\n",
              "\n",
              "    .dataframe thead th {\n",
              "        text-align: right;\n",
              "    }\n",
              "</style>\n",
              "<table border=\"1\" class=\"dataframe\">\n",
              "  <thead>\n",
              "    <tr style=\"text-align: right;\">\n",
              "      <th></th>\n",
              "      <th>Population</th>\n",
              "      <th>Votes</th>\n",
              "      <th>popmills</th>\n",
              "    </tr>\n",
              "    <tr>\n",
              "      <th>State</th>\n",
              "      <th></th>\n",
              "      <th></th>\n",
              "      <th></th>\n",
              "    </tr>\n",
              "  </thead>\n",
              "  <tbody>\n",
              "    <tr>\n",
              "      <th>Arizona</th>\n",
              "      <td>6392000</td>\n",
              "      <td>11</td>\n",
              "      <td>6.392</td>\n",
              "    </tr>\n",
              "    <tr>\n",
              "      <th>Indiana</th>\n",
              "      <td>6484000</td>\n",
              "      <td>11</td>\n",
              "      <td>6.484</td>\n",
              "    </tr>\n",
              "    <tr>\n",
              "      <th>Massachusetts</th>\n",
              "      <td>6548000</td>\n",
              "      <td>11</td>\n",
              "      <td>6.548</td>\n",
              "    </tr>\n",
              "    <tr>\n",
              "      <th>New Jersey</th>\n",
              "      <td>8792000</td>\n",
              "      <td>14</td>\n",
              "      <td>8.792</td>\n",
              "    </tr>\n",
              "    <tr>\n",
              "      <th>Tennessee</th>\n",
              "      <td>6346000</td>\n",
              "      <td>11</td>\n",
              "      <td>6.346</td>\n",
              "    </tr>\n",
              "    <tr>\n",
              "      <th>Virginia</th>\n",
              "      <td>8001000</td>\n",
              "      <td>13</td>\n",
              "      <td>8.001</td>\n",
              "    </tr>\n",
              "    <tr>\n",
              "      <th>Washington</th>\n",
              "      <td>6725000</td>\n",
              "      <td>12</td>\n",
              "      <td>6.725</td>\n",
              "    </tr>\n",
              "  </tbody>\n",
              "</table>\n",
              "</div>"
            ],
            "text/plain": [
              "               Population  Votes  popmills\n",
              "State                                     \n",
              "Arizona           6392000     11     6.392\n",
              "Indiana           6484000     11     6.484\n",
              "Massachusetts     6548000     11     6.548\n",
              "New Jersey        8792000     14     8.792\n",
              "Tennessee         6346000     11     6.346\n",
              "Virginia          8001000     13     8.001\n",
              "Washington        6725000     12     6.725"
            ]
          },
          "metadata": {
            "tags": []
          },
          "execution_count": 29
        }
      ]
    },
    {
      "cell_type": "markdown",
      "metadata": {
        "id": "E5625h6TVMxy"
      },
      "source": [
        "This a short form for two operations:\n",
        "\n",
        "1. create a True/False boolean mask using a conditional\n",
        "2. use the mask to select specific rows from the dataframe matching the conditional; that is only those rows are chosen for whom the conditional is True"
      ]
    },
    {
      "cell_type": "code",
      "metadata": {
        "id": "U7-cx5afVMxy",
        "outputId": "4abac133-4b7b-42cc-a241-398036640715",
        "colab": {
          "base_uri": "https://localhost:8080/"
        }
      },
      "source": [
        "combined.Votes < 15"
      ],
      "execution_count": 30,
      "outputs": [
        {
          "output_type": "execute_result",
          "data": {
            "text/plain": [
              "State\n",
              "Alaska                   True\n",
              "Alabama                  True\n",
              "Arkansas                 True\n",
              "Arizona                  True\n",
              "California              False\n",
              "Colorado                 True\n",
              "Connecticut              True\n",
              "District of Columbia     True\n",
              "Delaware                 True\n",
              "Florida                 False\n",
              "Georgia                 False\n",
              "Hawaii                   True\n",
              "Iowa                     True\n",
              "Idaho                    True\n",
              "Illinois                False\n",
              "Indiana                  True\n",
              "Kansas                   True\n",
              "Kentucky                 True\n",
              "Louisiana                True\n",
              "Massachusetts            True\n",
              "Maryland                 True\n",
              "Maine                    True\n",
              "Michigan                False\n",
              "Minnesota                True\n",
              "Missouri                 True\n",
              "Mississippi              True\n",
              "Montana                  True\n",
              "North Carolina          False\n",
              "North Dakota             True\n",
              "Nebraska                 True\n",
              "New Hampshire            True\n",
              "New Jersey               True\n",
              "New Mexico               True\n",
              "Nevada                   True\n",
              "New York                False\n",
              "Ohio                    False\n",
              "Oklahoma                 True\n",
              "Oregon                   True\n",
              "Pennsylvania            False\n",
              "Rhode Island             True\n",
              "South Carolina           True\n",
              "South Dakota             True\n",
              "Tennessee                True\n",
              "Texas                   False\n",
              "Utah                     True\n",
              "Virginia                 True\n",
              "Vermont                  True\n",
              "Washington               True\n",
              "Wisconsin                True\n",
              "West Virginia            True\n",
              "Wyoming                  True\n",
              "Name: Votes, dtype: bool"
            ]
          },
          "metadata": {
            "tags": []
          },
          "execution_count": 30
        }
      ]
    },
    {
      "cell_type": "code",
      "metadata": {
        "id": "gwn6HnIuVMxy",
        "outputId": "de458703-0dc8-43a1-cc68-ebdfb5aaf568",
        "colab": {
          "base_uri": "https://localhost:8080/"
        }
      },
      "source": [
        "combined.Votes > 10"
      ],
      "execution_count": 31,
      "outputs": [
        {
          "output_type": "execute_result",
          "data": {
            "text/plain": [
              "State\n",
              "Alaska                  False\n",
              "Alabama                 False\n",
              "Arkansas                False\n",
              "Arizona                  True\n",
              "California               True\n",
              "Colorado                False\n",
              "Connecticut             False\n",
              "District of Columbia    False\n",
              "Delaware                False\n",
              "Florida                  True\n",
              "Georgia                  True\n",
              "Hawaii                  False\n",
              "Iowa                    False\n",
              "Idaho                   False\n",
              "Illinois                 True\n",
              "Indiana                  True\n",
              "Kansas                  False\n",
              "Kentucky                False\n",
              "Louisiana               False\n",
              "Massachusetts            True\n",
              "Maryland                False\n",
              "Maine                   False\n",
              "Michigan                 True\n",
              "Minnesota               False\n",
              "Missouri                False\n",
              "Mississippi             False\n",
              "Montana                 False\n",
              "North Carolina           True\n",
              "North Dakota            False\n",
              "Nebraska                False\n",
              "New Hampshire           False\n",
              "New Jersey               True\n",
              "New Mexico              False\n",
              "Nevada                  False\n",
              "New York                 True\n",
              "Ohio                     True\n",
              "Oklahoma                False\n",
              "Oregon                  False\n",
              "Pennsylvania             True\n",
              "Rhode Island            False\n",
              "South Carolina          False\n",
              "South Dakota            False\n",
              "Tennessee                True\n",
              "Texas                    True\n",
              "Utah                    False\n",
              "Virginia                 True\n",
              "Vermont                 False\n",
              "Washington               True\n",
              "Wisconsin               False\n",
              "West Virginia           False\n",
              "Wyoming                 False\n",
              "Name: Votes, dtype: bool"
            ]
          },
          "metadata": {
            "tags": []
          },
          "execution_count": 31
        }
      ]
    },
    {
      "cell_type": "code",
      "metadata": {
        "id": "KQT0ygnoVMxz",
        "outputId": "56396ffb-cabe-467d-975c-bfa006e55bd8",
        "colab": {
          "base_uri": "https://localhost:8080/"
        }
      },
      "source": [
        "(combined.Votes > 10) & (combined.Votes < 15) # bitwise and"
      ],
      "execution_count": 32,
      "outputs": [
        {
          "output_type": "execute_result",
          "data": {
            "text/plain": [
              "State\n",
              "Alaska                  False\n",
              "Alabama                 False\n",
              "Arkansas                False\n",
              "Arizona                  True\n",
              "California              False\n",
              "Colorado                False\n",
              "Connecticut             False\n",
              "District of Columbia    False\n",
              "Delaware                False\n",
              "Florida                 False\n",
              "Georgia                 False\n",
              "Hawaii                  False\n",
              "Iowa                    False\n",
              "Idaho                   False\n",
              "Illinois                False\n",
              "Indiana                  True\n",
              "Kansas                  False\n",
              "Kentucky                False\n",
              "Louisiana               False\n",
              "Massachusetts            True\n",
              "Maryland                False\n",
              "Maine                   False\n",
              "Michigan                False\n",
              "Minnesota               False\n",
              "Missouri                False\n",
              "Mississippi             False\n",
              "Montana                 False\n",
              "North Carolina          False\n",
              "North Dakota            False\n",
              "Nebraska                False\n",
              "New Hampshire           False\n",
              "New Jersey               True\n",
              "New Mexico              False\n",
              "Nevada                  False\n",
              "New York                False\n",
              "Ohio                    False\n",
              "Oklahoma                False\n",
              "Oregon                  False\n",
              "Pennsylvania            False\n",
              "Rhode Island            False\n",
              "South Carolina          False\n",
              "South Dakota            False\n",
              "Tennessee                True\n",
              "Texas                   False\n",
              "Utah                    False\n",
              "Virginia                 True\n",
              "Vermont                 False\n",
              "Washington               True\n",
              "Wisconsin               False\n",
              "West Virginia           False\n",
              "Wyoming                 False\n",
              "Name: Votes, dtype: bool"
            ]
          },
          "metadata": {
            "tags": []
          },
          "execution_count": 32
        }
      ]
    },
    {
      "cell_type": "markdown",
      "metadata": {
        "id": "Mm2LLVWoVMxz"
      },
      "source": [
        "Now we do the indexing"
      ]
    },
    {
      "cell_type": "code",
      "metadata": {
        "id": "Kf-VrDsEVMxz",
        "outputId": "e1401b97-6ddb-4d72-c595-a6622dffa583",
        "colab": {
          "base_uri": "https://localhost:8080/",
          "height": 297
        }
      },
      "source": [
        "combined[(combined.Votes > 10) & (combined.Votes < 15)]"
      ],
      "execution_count": 33,
      "outputs": [
        {
          "output_type": "execute_result",
          "data": {
            "text/html": [
              "<div>\n",
              "<style scoped>\n",
              "    .dataframe tbody tr th:only-of-type {\n",
              "        vertical-align: middle;\n",
              "    }\n",
              "\n",
              "    .dataframe tbody tr th {\n",
              "        vertical-align: top;\n",
              "    }\n",
              "\n",
              "    .dataframe thead th {\n",
              "        text-align: right;\n",
              "    }\n",
              "</style>\n",
              "<table border=\"1\" class=\"dataframe\">\n",
              "  <thead>\n",
              "    <tr style=\"text-align: right;\">\n",
              "      <th></th>\n",
              "      <th>Population</th>\n",
              "      <th>Votes</th>\n",
              "      <th>popmills</th>\n",
              "    </tr>\n",
              "    <tr>\n",
              "      <th>State</th>\n",
              "      <th></th>\n",
              "      <th></th>\n",
              "      <th></th>\n",
              "    </tr>\n",
              "  </thead>\n",
              "  <tbody>\n",
              "    <tr>\n",
              "      <th>Arizona</th>\n",
              "      <td>6392000</td>\n",
              "      <td>11</td>\n",
              "      <td>6.392</td>\n",
              "    </tr>\n",
              "    <tr>\n",
              "      <th>Indiana</th>\n",
              "      <td>6484000</td>\n",
              "      <td>11</td>\n",
              "      <td>6.484</td>\n",
              "    </tr>\n",
              "    <tr>\n",
              "      <th>Massachusetts</th>\n",
              "      <td>6548000</td>\n",
              "      <td>11</td>\n",
              "      <td>6.548</td>\n",
              "    </tr>\n",
              "    <tr>\n",
              "      <th>New Jersey</th>\n",
              "      <td>8792000</td>\n",
              "      <td>14</td>\n",
              "      <td>8.792</td>\n",
              "    </tr>\n",
              "    <tr>\n",
              "      <th>Tennessee</th>\n",
              "      <td>6346000</td>\n",
              "      <td>11</td>\n",
              "      <td>6.346</td>\n",
              "    </tr>\n",
              "    <tr>\n",
              "      <th>Virginia</th>\n",
              "      <td>8001000</td>\n",
              "      <td>13</td>\n",
              "      <td>8.001</td>\n",
              "    </tr>\n",
              "    <tr>\n",
              "      <th>Washington</th>\n",
              "      <td>6725000</td>\n",
              "      <td>12</td>\n",
              "      <td>6.725</td>\n",
              "    </tr>\n",
              "  </tbody>\n",
              "</table>\n",
              "</div>"
            ],
            "text/plain": [
              "               Population  Votes  popmills\n",
              "State                                     \n",
              "Arizona           6392000     11     6.392\n",
              "Indiana           6484000     11     6.484\n",
              "Massachusetts     6548000     11     6.548\n",
              "New Jersey        8792000     14     8.792\n",
              "Tennessee         6346000     11     6.346\n",
              "Virginia          8001000     13     8.001\n",
              "Washington        6725000     12     6.725"
            ]
          },
          "metadata": {
            "tags": []
          },
          "execution_count": 33
        }
      ]
    },
    {
      "cell_type": "markdown",
      "metadata": {
        "id": "7_oxymozVMxz"
      },
      "source": [
        "## Accessing select rows in a DataFrame\n",
        "\n",
        "We have seen how to get an entire column, or an entire sub-dataframe.\n",
        "\n",
        "We'll now look at 2 methods : [*.loc*](https://pandas.pydata.org/pandas-docs/version/0.23.1/generated/pandas.DataFrame.loc.html) and [*.iloc*](https://pandas.pydata.org/pandas-docs/version/0.23.1/generated/pandas.DataFrame.iloc.html#pandas.DataFrame.iloc) that will help us select certain rows/columns from a Pandas DataFrame.\n",
        "\n",
        "*.loc* accesses a group of rows and columns by label(s) or a boolean array, whereas *.iloc* is a purely integer-location based indexing for selection by position.\n",
        "\n",
        "We'll do some examples on the `combined` Dataframe to see how this works"
      ]
    },
    {
      "cell_type": "markdown",
      "metadata": {
        "id": "4QBmdmUzVMx0"
      },
      "source": [
        "**Eg1**: Say we need to find out the Population for Alabama. We shall do this by using .loc & .iloc both"
      ]
    },
    {
      "cell_type": "code",
      "metadata": {
        "id": "JOpHE7HlVMx0",
        "outputId": "3f54c281-dab5-494d-a4ff-d82ae152d184"
      },
      "source": [
        "print(\"The population of Alabama is:\", combined.loc['Alabama'].Population)\n",
        "print(\"The population of Alabama is:\", combined.iloc[1].Population)"
      ],
      "execution_count": null,
      "outputs": [
        {
          "output_type": "stream",
          "text": [
            "The population of Alabama is: 4780000.0\n",
            "The population of Alabama is: 4780000.0\n"
          ],
          "name": "stdout"
        }
      ]
    },
    {
      "cell_type": "markdown",
      "metadata": {
        "id": "MDlMURqeVMx0"
      },
      "source": [
        "For using *.loc*, we need to specify the index label (States) while for using *.iloc*, we need to specify the index position (for Alabama, it is 1)"
      ]
    },
    {
      "cell_type": "markdown",
      "metadata": {
        "id": "b1fBHCsoVMx1"
      },
      "source": [
        "**Eg2**: Find out the votes of the first 5 states in the dataframe."
      ]
    },
    {
      "cell_type": "code",
      "metadata": {
        "id": "mmZTVI7eVMx1",
        "outputId": "a846a86b-b782-4248-a465-1243dab1a085"
      },
      "source": [
        "combined.iloc[0:5].Votes"
      ],
      "execution_count": null,
      "outputs": [
        {
          "output_type": "execute_result",
          "data": {
            "text/plain": [
              "State\n",
              "Alaska         3\n",
              "Alabama        9\n",
              "Arkansas       6\n",
              "Arizona       11\n",
              "California    55\n",
              "Name: Votes, dtype: int64"
            ]
          },
          "metadata": {
            "tags": []
          },
          "execution_count": 28
        }
      ]
    },
    {
      "cell_type": "markdown",
      "metadata": {
        "id": "WtrkWmk4VMx1"
      },
      "source": [
        "**Eg3**: Find out only the rows for all states whose population is greater than 10 million. We can write a conditional expression within the .loc brackets to do this."
      ]
    },
    {
      "cell_type": "code",
      "metadata": {
        "id": "cbHH1D6mVMx1",
        "outputId": "22bbdf49-c3fc-416a-af68-c3a24b77141c"
      },
      "source": [
        "combined.loc[combined['Population'] > 10000000]"
      ],
      "execution_count": null,
      "outputs": [
        {
          "output_type": "execute_result",
          "data": {
            "text/html": [
              "<div>\n",
              "<style scoped>\n",
              "    .dataframe tbody tr th:only-of-type {\n",
              "        vertical-align: middle;\n",
              "    }\n",
              "\n",
              "    .dataframe tbody tr th {\n",
              "        vertical-align: top;\n",
              "    }\n",
              "\n",
              "    .dataframe thead th {\n",
              "        text-align: right;\n",
              "    }\n",
              "</style>\n",
              "<table border=\"1\" class=\"dataframe\">\n",
              "  <thead>\n",
              "    <tr style=\"text-align: right;\">\n",
              "      <th></th>\n",
              "      <th>Population</th>\n",
              "      <th>Votes</th>\n",
              "      <th>popmills</th>\n",
              "    </tr>\n",
              "    <tr>\n",
              "      <th>State</th>\n",
              "      <th></th>\n",
              "      <th></th>\n",
              "      <th></th>\n",
              "    </tr>\n",
              "  </thead>\n",
              "  <tbody>\n",
              "    <tr>\n",
              "      <th>California</th>\n",
              "      <td>37254000</td>\n",
              "      <td>55</td>\n",
              "      <td>37.254</td>\n",
              "    </tr>\n",
              "    <tr>\n",
              "      <th>Florida</th>\n",
              "      <td>18801000</td>\n",
              "      <td>29</td>\n",
              "      <td>18.801</td>\n",
              "    </tr>\n",
              "    <tr>\n",
              "      <th>Illinois</th>\n",
              "      <td>12831000</td>\n",
              "      <td>20</td>\n",
              "      <td>12.831</td>\n",
              "    </tr>\n",
              "    <tr>\n",
              "      <th>New York</th>\n",
              "      <td>19378000</td>\n",
              "      <td>29</td>\n",
              "      <td>19.378</td>\n",
              "    </tr>\n",
              "    <tr>\n",
              "      <th>Ohio</th>\n",
              "      <td>11537000</td>\n",
              "      <td>18</td>\n",
              "      <td>11.537</td>\n",
              "    </tr>\n",
              "    <tr>\n",
              "      <th>Pennsylvania</th>\n",
              "      <td>12702000</td>\n",
              "      <td>20</td>\n",
              "      <td>12.702</td>\n",
              "    </tr>\n",
              "    <tr>\n",
              "      <th>Texas</th>\n",
              "      <td>25146000</td>\n",
              "      <td>38</td>\n",
              "      <td>25.146</td>\n",
              "    </tr>\n",
              "  </tbody>\n",
              "</table>\n",
              "</div>"
            ],
            "text/plain": [
              "              Population  Votes  popmills\n",
              "State                                    \n",
              "California      37254000     55    37.254\n",
              "Florida         18801000     29    18.801\n",
              "Illinois        12831000     20    12.831\n",
              "New York        19378000     29    19.378\n",
              "Ohio            11537000     18    11.537\n",
              "Pennsylvania    12702000     20    12.702\n",
              "Texas           25146000     38    25.146"
            ]
          },
          "metadata": {
            "tags": []
          },
          "execution_count": 29
        }
      ]
    },
    {
      "cell_type": "markdown",
      "metadata": {
        "id": "jAHMkz-5VMx1"
      },
      "source": [
        "Let us save this dataframe now to a csv file named **'combined_population_votes'** on our local"
      ]
    },
    {
      "cell_type": "code",
      "metadata": {
        "id": "9GZZkicSVMx2"
      },
      "source": [
        "combined.to_csv('combined_population_votes.csv')"
      ],
      "execution_count": 34,
      "outputs": []
    },
    {
      "cell_type": "code",
      "metadata": {
        "id": "Fl2nW2qLdrh2",
        "outputId": "c646d8cd-d592-4e05-f2ec-b2c926f5426c",
        "colab": {
          "base_uri": "https://localhost:8080/"
        }
      },
      "source": [
        "!cat combined_population_votes.csv"
      ],
      "execution_count": 35,
      "outputs": [
        {
          "output_type": "stream",
          "text": [
            "State,Population,Votes,popmills\n",
            "Alaska,710000,3,0.71\n",
            "Alabama,4780000,9,4.78\n",
            "Arkansas,2916000,6,2.916\n",
            "Arizona,6392000,11,6.392\n",
            "California,37254000,55,37.254\n",
            "Colorado,5029000,9,5.029\n",
            "Connecticut,3574000,7,3.574\n",
            "District of Columbia,602000,3,0.602\n",
            "Delaware,898000,3,0.898\n",
            "Florida,18801000,29,18.801\n",
            "Georgia,9688000,16,9.688\n",
            "Hawaii,1360000,4,1.36\n",
            "Iowa,3046000,6,3.046\n",
            "Idaho,1568000,4,1.568\n",
            "Illinois,12831000,20,12.831\n",
            "Indiana,6484000,11,6.484\n",
            "Kansas,2853000,6,2.853\n",
            "Kentucky,4339000,8,4.339\n",
            "Louisiana,4533000,8,4.533\n",
            "Massachusetts,6548000,11,6.548\n",
            "Maryland,5774000,10,5.774\n",
            "Maine,1328000,4,1.328\n",
            "Michigan,9884000,16,9.884\n",
            "Minnesota,5304000,10,5.304\n",
            "Missouri,5989000,10,5.989\n",
            "Mississippi,2967000,6,2.967\n",
            "Montana,989000,3,0.989\n",
            "North Carolina,9535000,15,9.535\n",
            "North Dakota,673000,3,0.673\n",
            "Nebraska,1826000,5,1.826\n",
            "New Hampshire,1316000,4,1.316\n",
            "New Jersey,8792000,14,8.792\n",
            "New Mexico,2059000,5,2.059\n",
            "Nevada,2701000,6,2.701\n",
            "New York,19378000,29,19.378\n",
            "Ohio,11537000,18,11.537\n",
            "Oklahoma,3751000,7,3.751\n",
            "Oregon,3831000,7,3.831\n",
            "Pennsylvania,12702000,20,12.702\n",
            "Rhode Island,1053000,4,1.053\n",
            "South Carolina,4625000,9,4.625\n",
            "South Dakota,814000,3,0.814\n",
            "Tennessee,6346000,11,6.346\n",
            "Texas,25146000,38,25.146\n",
            "Utah,2764000,6,2.764\n",
            "Virginia,8001000,13,8.001\n",
            "Vermont,626000,3,0.626\n",
            "Washington,6725000,12,6.725\n",
            "Wisconsin,5687000,10,5.687\n",
            "West Virginia,1853000,5,1.853\n",
            "Wyoming,564000,3,0.564\n"
          ],
          "name": "stdout"
        }
      ]
    },
    {
      "cell_type": "code",
      "metadata": {
        "id": "5GMH5P4Udub_",
        "outputId": "f342eff5-edc7-431c-9803-f6a61711129b",
        "colab": {
          "base_uri": "https://localhost:8080/",
          "height": 204
        }
      },
      "source": [
        "read_file = pd.read_csv('combined_population_votes.csv')\r\n",
        "read_file.head()"
      ],
      "execution_count": 36,
      "outputs": [
        {
          "output_type": "execute_result",
          "data": {
            "text/html": [
              "<div>\n",
              "<style scoped>\n",
              "    .dataframe tbody tr th:only-of-type {\n",
              "        vertical-align: middle;\n",
              "    }\n",
              "\n",
              "    .dataframe tbody tr th {\n",
              "        vertical-align: top;\n",
              "    }\n",
              "\n",
              "    .dataframe thead th {\n",
              "        text-align: right;\n",
              "    }\n",
              "</style>\n",
              "<table border=\"1\" class=\"dataframe\">\n",
              "  <thead>\n",
              "    <tr style=\"text-align: right;\">\n",
              "      <th></th>\n",
              "      <th>State</th>\n",
              "      <th>Population</th>\n",
              "      <th>Votes</th>\n",
              "      <th>popmills</th>\n",
              "    </tr>\n",
              "  </thead>\n",
              "  <tbody>\n",
              "    <tr>\n",
              "      <th>0</th>\n",
              "      <td>Alaska</td>\n",
              "      <td>710000</td>\n",
              "      <td>3</td>\n",
              "      <td>0.710</td>\n",
              "    </tr>\n",
              "    <tr>\n",
              "      <th>1</th>\n",
              "      <td>Alabama</td>\n",
              "      <td>4780000</td>\n",
              "      <td>9</td>\n",
              "      <td>4.780</td>\n",
              "    </tr>\n",
              "    <tr>\n",
              "      <th>2</th>\n",
              "      <td>Arkansas</td>\n",
              "      <td>2916000</td>\n",
              "      <td>6</td>\n",
              "      <td>2.916</td>\n",
              "    </tr>\n",
              "    <tr>\n",
              "      <th>3</th>\n",
              "      <td>Arizona</td>\n",
              "      <td>6392000</td>\n",
              "      <td>11</td>\n",
              "      <td>6.392</td>\n",
              "    </tr>\n",
              "    <tr>\n",
              "      <th>4</th>\n",
              "      <td>California</td>\n",
              "      <td>37254000</td>\n",
              "      <td>55</td>\n",
              "      <td>37.254</td>\n",
              "    </tr>\n",
              "  </tbody>\n",
              "</table>\n",
              "</div>"
            ],
            "text/plain": [
              "        State  Population  Votes  popmills\n",
              "0      Alaska      710000      3     0.710\n",
              "1     Alabama     4780000      9     4.780\n",
              "2    Arkansas     2916000      6     2.916\n",
              "3     Arizona     6392000     11     6.392\n",
              "4  California    37254000     55    37.254"
            ]
          },
          "metadata": {
            "tags": []
          },
          "execution_count": 36
        }
      ]
    },
    {
      "cell_type": "code",
      "metadata": {
        "id": "aXN1-ddMd67P"
      },
      "source": [
        ""
      ],
      "execution_count": null,
      "outputs": []
    }
  ]
}